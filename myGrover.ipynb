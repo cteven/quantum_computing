{
 "cells": [
  {
   "attachments": {},
   "cell_type": "markdown",
   "metadata": {},
   "source": [
    "## Example for 2 Qubits"
   ]
  },
  {
   "cell_type": "code",
   "execution_count": 115,
   "metadata": {},
   "outputs": [],
   "source": [
    "# importing Qiskit\n",
    "from qiskit import IBMQ, execute\n",
    "from qiskit import QuantumCircuit\n",
    "from qiskit.providers.ibmq import least_busy\n",
    "from qiskit.tools.monitor import job_monitor\n",
    "\n",
    "# import basic plot tools\n",
    "from qiskit.visualization import plot_histogram"
   ]
  },
  {
   "cell_type": "code",
   "execution_count": 116,
   "metadata": {},
   "outputs": [],
   "source": [
    "n = 2 # number of qubits\n",
    "\n",
    "# size of circuit, 2 qubits and 2 classical bits(to measure)\n",
    "grovers_alg_circuit = QuantumCircuit(n,n)"
   ]
  },
  {
   "cell_type": "code",
   "execution_count": 117,
   "metadata": {},
   "outputs": [],
   "source": [
    "# apply hadamard gate on qubits for superposition\n",
    "def init_qubits(circuit, qubits):\n",
    "   for qubit in qubits:\n",
    "        circuit.h(qubit)\n",
    "   return circuit"
   ]
  },
  {
   "cell_type": "code",
   "execution_count": 118,
   "metadata": {},
   "outputs": [],
   "source": [
    "# apply hadamard gate for superposition\n",
    "grovers_alg_circuit = init_qubits(grovers_alg_circuit, [0,1])"
   ]
  },
  {
   "cell_type": "code",
   "execution_count": 119,
   "metadata": {},
   "outputs": [
    {
     "data": {
      "text/html": [
       "<pre style=\"word-wrap: normal;white-space: pre;background: #fff0;line-height: 1.1;font-family: &quot;Courier New&quot;,Courier,monospace\">     ┌───┐   \n",
       "q_0: ┤ H ├─■─\n",
       "     ├───┤ │ \n",
       "q_1: ┤ H ├─■─\n",
       "     └───┘   \n",
       "c: 2/════════\n",
       "             </pre>"
      ],
      "text/plain": [
       "     ┌───┐   \n",
       "q_0: ┤ H ├─■─\n",
       "     ├───┤ │ \n",
       "q_1: ┤ H ├─■─\n",
       "     └───┘   \n",
       "c: 2/════════\n",
       "             "
      ]
     },
     "execution_count": 119,
     "metadata": {},
     "output_type": "execute_result"
    }
   ],
   "source": [
    "# oracle for 11\n",
    "grovers_alg_circuit.cz(0,1)\n",
    "grovers_alg_circuit.draw()"
   ]
  },
  {
   "cell_type": "code",
   "execution_count": 120,
   "metadata": {},
   "outputs": [
    {
     "data": {
      "text/plain": [
       "<qiskit.circuit.instructionset.InstructionSet at 0x2bd11abc820>"
      ]
     },
     "execution_count": 120,
     "metadata": {},
     "output_type": "execute_result"
    }
   ],
   "source": [
    "# diffuser \n",
    "grovers_alg_circuit.h([0,1])\n",
    "grovers_alg_circuit.z([0,1])\n",
    "grovers_alg_circuit.cz(0,1)\n",
    "grovers_alg_circuit.h([0,1])"
   ]
  },
  {
   "cell_type": "code",
   "execution_count": 121,
   "metadata": {},
   "outputs": [
    {
     "data": {
      "text/html": [
       "<pre style=\"word-wrap: normal;white-space: pre;background: #fff0;line-height: 1.1;font-family: &quot;Courier New&quot;,Courier,monospace\">     ┌───┐   ┌───┐┌───┐   ┌───┐\n",
       "q_0: ┤ H ├─■─┤ H ├┤ Z ├─■─┤ H ├\n",
       "     ├───┤ │ ├───┤├───┤ │ ├───┤\n",
       "q_1: ┤ H ├─■─┤ H ├┤ Z ├─■─┤ H ├\n",
       "     └───┘   └───┘└───┘   └───┘\n",
       "c: 2/══════════════════════════\n",
       "                               </pre>"
      ],
      "text/plain": [
       "     ┌───┐   ┌───┐┌───┐   ┌───┐\n",
       "q_0: ┤ H ├─■─┤ H ├┤ Z ├─■─┤ H ├\n",
       "     ├───┤ │ ├───┤├───┤ │ ├───┤\n",
       "q_1: ┤ H ├─■─┤ H ├┤ Z ├─■─┤ H ├\n",
       "     └───┘   └───┘└───┘   └───┘\n",
       "c: 2/══════════════════════════\n",
       "                               "
      ]
     },
     "execution_count": 121,
     "metadata": {},
     "output_type": "execute_result"
    }
   ],
   "source": [
    "grovers_alg_circuit.draw()"
   ]
  },
  {
   "cell_type": "code",
   "execution_count": 122,
   "metadata": {},
   "outputs": [],
   "source": [
    "# measure the qubits\n",
    "grovers_alg_circuit.measure_all()"
   ]
  },
  {
   "cell_type": "markdown",
   "metadata": {},
   "source": [
    "Jetzt auf einem echten Quantencomputer"
   ]
  },
  {
   "cell_type": "code",
   "execution_count": 123,
   "metadata": {},
   "outputs": [],
   "source": [
    "provider = IBMQ.get_provider(hub='ibm-q')"
   ]
  },
  {
   "cell_type": "code",
   "execution_count": 124,
   "metadata": {},
   "outputs": [],
   "source": [
    "# try least busy instead\n",
    "# backend = least_busy(provider.backends(filters=lambda x: int(x.configuration().n_qubits) >= 3 and \n",
    "#                                    not x.configuration().simulator and x.status().operational==True))"
   ]
  },
  {
   "cell_type": "code",
   "execution_count": 125,
   "metadata": {},
   "outputs": [],
   "source": [
    "# use ibmq_belem, which is one of the less busier QCs\n",
    "# or use the code in the cell above and comment this cell's code\n",
    "backend = provider.get_backend('ibmq_belem')"
   ]
  },
  {
   "cell_type": "code",
   "execution_count": 126,
   "metadata": {},
   "outputs": [
    {
     "data": {
      "text/plain": [
       "'63ebc7e6fff8d30dc67f66c5'"
      ]
     },
     "execution_count": 126,
     "metadata": {},
     "output_type": "execute_result"
    }
   ],
   "source": [
    "# execute job with 10.000 shots (can be put up to 20.000)\n",
    "job = execute(grovers_alg_circuit, backend, shots=10000)\n",
    "job.job_id()\n"
   ]
  },
  {
   "cell_type": "code",
   "execution_count": 127,
   "metadata": {},
   "outputs": [
    {
     "name": "stdout",
     "output_type": "stream",
     "text": [
      "Job Status: job is queued (17)    "
     ]
    }
   ],
   "source": [
    "# look if the job is done\n",
    "job_monitor(job, interval=2)"
   ]
  },
  {
   "cell_type": "code",
   "execution_count": null,
   "metadata": {},
   "outputs": [
    {
     "data": {
      "text/plain": [
       "Result(backend_name='ibmq_lima', backend_version='1.0.45', qobj_id='843e0788-5095-43c1-9871-c104508536e2', job_id='63eaca01fd819eeb25a5dc0b', success=True, results=[ExperimentResult(shots=4000, success=True, meas_level=2, data=ExperimentResultData(counts={'0x0': 39, '0x1': 489, '0x2': 155, '0x3': 3317}), header=QobjExperimentHeader(qubit_labels=[['q', 0], ['q', 1], ['q', 2], ['q', 3], ['q', 4]], n_qubits=5, qreg_sizes=[['q', 5]], clbit_labels=[['c', 0], ['c', 1]], memory_slots=2, creg_sizes=[['c', 2]], name='circuit-450', global_phase=6.283185307179585, metadata={}), status=done)], date=2023-02-14 00:39:49+01:00, status=Successful completion, header=QobjHeader(backend_name='ibmq_lima', backend_version='1.0.45'), execution_id='b2930fd6-abf7-11ed-a4a4-b02628f7f59e', time_taken=2.8745405673980713, error=None, client_version={'qiskit': '0.41.0'})"
      ]
     },
     "execution_count": 110,
     "metadata": {},
     "output_type": "execute_result"
    }
   ],
   "source": [
    "# get results\n",
    "results = job.result()\n"
   ]
  },
  {
   "cell_type": "code",
   "execution_count": null,
   "metadata": {},
   "outputs": [
    {
     "data": {
      "text/plain": [
       "{'00': 39, '01': 489, '10': 155, '11': 3317}"
      ]
     },
     "execution_count": 111,
     "metadata": {},
     "output_type": "execute_result"
    }
   ],
   "source": [
    "# get counts for each possible state\n",
    "answer = results.get_counts(grovers_alg_circuit)"
   ]
  },
  {
   "cell_type": "code",
   "execution_count": null,
   "metadata": {},
   "outputs": [
    {
     "data": {
      "image/png": "[encoded data removed]",
      "text/plain": [
       "<Figure size 504x360 with 1 Axes>"
      ]
     },
     "execution_count": 112,
     "metadata": {},
     "output_type": "execute_result"
    }
   ],
   "source": [
    "plot_histogram(answer)"
   ]
  }
 ],
 "metadata": {
  "kernelspec": {
   "display_name": "Python 3",
   "language": "python",
   "name": "python3"
  },
  "language_info": {
   "codemirror_mode": {
    "name": "ipython",
    "version": 3
   },
   "file_extension": ".py",
   "mimetype": "text/x-python",
   "name": "python",
   "nbconvert_exporter": "python",
   "pygments_lexer": "ipython3",
   "version": "3.10.10"
  },
  "orig_nbformat": 4,
  "vscode": {
   "interpreter": {
    "hash": "7535c2b15102566238d74c09a6d8eff063fa7de5f87fb36cc5318ae6ed013385"
   }
  }
 },
 "nbformat": 4,
 "nbformat_minor": 2
}
