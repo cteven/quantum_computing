{
 "cells": [
  {
   "attachments": {},
   "cell_type": "markdown",
   "metadata": {},
   "source": [
    "## Example for $n$ Qubits"
   ]
  },
  {
   "cell_type": "markdown",
   "metadata": {},
   "source": [
    "both libraries needed to use the following program"
   ]
  },
  {
   "cell_type": "code",
   "execution_count": 898,
   "metadata": {},
   "outputs": [],
   "source": [
    "#%pip install qiskit\n",
    "#%pip install qiskit[visualization]"
   ]
  },
  {
   "cell_type": "code",
   "execution_count": 899,
   "metadata": {},
   "outputs": [],
   "source": [
    "#initialization\n",
    "import numpy as np\n",
    "\n",
    "# importing Qiskit\n",
    "from qiskit import IBMQ, execute\n",
    "from qiskit import QuantumCircuit\n",
    "from qiskit.providers.ibmq import least_busy\n",
    "from qiskit.tools.monitor import job_monitor\n",
    "\n",
    "# import of plot tool\n",
    "from qiskit.visualization import plot_histogram"
   ]
  },
  {
   "attachments": {},
   "cell_type": "markdown",
   "metadata": {},
   "source": [
    "you can try to skip the next step with the token first, to see, if it works without"
   ]
  },
  {
   "cell_type": "markdown",
   "metadata": {},
   "source": [
    "You might need to sign into or register at https://quantum-computing.ibm.com/lab, get your token in the dashboard and paste it here:"
   ]
  },
  {
   "cell_type": "code",
   "execution_count": 900,
   "metadata": {},
   "outputs": [],
   "source": [
    "# MY_TOKEN = 'TOKEN HERE'\n",
    "# IBMQ.save_account(MY_TOKEN)"
   ]
  },
  {
   "attachments": {},
   "cell_type": "markdown",
   "metadata": {},
   "source": [
    "function to add the oracle for any number of winners $w$"
   ]
  },
  {
   "cell_type": "code",
   "execution_count": 901,
   "metadata": {},
   "outputs": [],
   "source": [
    "def apply_oracle(winners : list, n_qubits, circuit):\n",
    "   oracle = QuantumCircuit(n_qubits)\n",
    "   for winner in winners:\n",
    "      if winner > 2**n_qubits:\n",
    "         raise ValueError('One of the given winners value is too big')\n",
    "      for i in range(n):\n",
    "         if ((winner >> i) & 1)==0:\n",
    "            oracle.x(i)\n",
    "      oracle.h(n_qubits-1)\n",
    "      oracle.mct(list(range(n_qubits-1)), n_qubits-1)  # multi-controlled-toffoli\n",
    "      oracle.h(n_qubits-1)\n",
    "      for i in range(n_qubits):\n",
    "         if ((winner >> i) & 1)==0:\n",
    "            oracle.x(i)\n",
    "   oracle = oracle.to_gate()\n",
    "   oracle.name = \"$U_w$\"\n",
    "   circuit.append(oracle, list(range(n_qubits)))"
   ]
  },
  {
   "cell_type": "code",
   "execution_count": 902,
   "metadata": {},
   "outputs": [],
   "source": [
    "# amount of qubits\n",
    "n = 3\n",
    "\n",
    "# amount of different possible states in the list\n",
    "N = 2**n\n",
    "\n",
    "# which entries to search for \n",
    "# choose your own, but try not to use more than 2,\n",
    "# because the result will not be accurate yet (hard to fix)\n",
    "# it makes it easier to compare the results and marks, if the marks are put in as binaries like 0b101\n",
    "mark = [0b110]"
   ]
  },
  {
   "cell_type": "code",
   "execution_count": 903,
   "metadata": {},
   "outputs": [],
   "source": [
    "# creating oracle circuit\n",
    "oracle_n = QuantumCircuit(n)\n",
    "\n",
    "# applying oracle with the marks we set\n",
    "apply_oracle(mark,n,oracle_n)\n",
    "\n",
    "# show oracle\n",
    "oracle_n.draw()\n",
    "\n",
    "# make oracle to a gate\n",
    "oracle_n = oracle_n.to_gate()\n",
    "oracle_n.name = \"U$_w$\""
   ]
  },
  {
   "cell_type": "code",
   "execution_count": 904,
   "metadata": {},
   "outputs": [],
   "source": [
    "# general diffuser for any number of qubits\n",
    "def diffuser(n_qubits):\n",
    "    qc = QuantumCircuit(n_qubits)\n",
    "\n",
    "    # get qubits out of superposition\n",
    "    for qubit in range(n_qubits):\n",
    "        qc.h(qubit)\n",
    "\n",
    "    # NOT gate on every qubit\n",
    "    for qubit in range(n_qubits):\n",
    "        qc.x(qubit)\n",
    "\n",
    "    # Do multi-controlled-Z gate\n",
    "    qc.h(n_qubits-1)\n",
    "    qc.mct(list(range(n_qubits-1)), n_qubits-1)  # multi-controlled-CX-gate\n",
    "    qc.h(n_qubits-1)\n",
    "\n",
    "    # NOT gate on every qubit\n",
    "    for qubit in range(n_qubits):\n",
    "        qc.x(qubit)\n",
    "\n",
    "    # apply superposition on every qubit\n",
    "    for qubit in range(n_qubits):\n",
    "        qc.h(qubit)\n",
    "    # We will return the diffuser as a gate with U_s as name\n",
    "    U_s = qc.to_gate()\n",
    "    U_s.name = \"U$_s$\"\n",
    "    return U_s"
   ]
  },
  {
   "cell_type": "code",
   "execution_count": 905,
   "metadata": {},
   "outputs": [],
   "source": [
    "# initialization function, which puts every qubit in superposition\n",
    "def init_qubits(circuit, qubits):\n",
    "   for qubit in qubits:\n",
    "        circuit.h(qubit)\n",
    "   return circuit"
   ]
  },
  {
   "cell_type": "code",
   "execution_count": 906,
   "metadata": {},
   "outputs": [],
   "source": [
    "# one grover iteration\n",
    "# each iteration adds the oracle and diffuser again to the circuit\n",
    "def grover_iteration(circuit, n):\n",
    "   apply_oracle(mark, n, circuit)\n",
    "   circuit.append(diffuser(n),list(range(n)))\n",
    "   "
   ]
  },
  {
   "attachments": {},
   "cell_type": "markdown",
   "metadata": {},
   "source": [
    "- create circuit for grover's algorithm \n",
    "- apply superposition on every qubit\n",
    "- do $\\pi / 4 * \\sqrt{N}$ iterations"
   ]
  },
  {
   "cell_type": "code",
   "execution_count": 907,
   "metadata": {},
   "outputs": [
    {
     "data": {
      "text/html": [
       "<pre style=\"word-wrap: normal;white-space: pre;background: #fff0;line-height: 1.1;font-family: &quot;Courier New&quot;,Courier,monospace\">        ┌───┐┌────────┐┌────────┐ ░ ┌─┐            \n",
       "   q_0: ┤ H ├┤0       ├┤0       ├─░─┤M├────────────\n",
       "        ├───┤│        ││        │ ░ └╥┘┌─┐         \n",
       "   q_1: ┤ H ├┤1       ├┤1       ├─░──╫─┤M├─────────\n",
       "        ├───┤│        ││        │ ░  ║ └╥┘┌─┐      \n",
       "   q_2: ┤ H ├┤2 $U_w$ ├┤2 U$_s$ ├─░──╫──╫─┤M├──────\n",
       "        ├───┤│        ││        │ ░  ║  ║ └╥┘┌─┐   \n",
       "   q_3: ┤ H ├┤3       ├┤3       ├─░──╫──╫──╫─┤M├───\n",
       "        ├───┤│        ││        │ ░  ║  ║  ║ └╥┘┌─┐\n",
       "   q_4: ┤ H ├┤4       ├┤4       ├─░──╫──╫──╫──╫─┤M├\n",
       "        └───┘└────────┘└────────┘ ░  ║  ║  ║  ║ └╥┘\n",
       "meas: 5/═════════════════════════════╩══╩══╩══╩══╩═\n",
       "                                     0  1  2  3  4 </pre>"
      ],
      "text/plain": [
       "        ┌───┐┌────────┐┌────────┐ ░ ┌─┐            \n",
       "   q_0: ┤ H ├┤0       ├┤0       ├─░─┤M├────────────\n",
       "        ├───┤│        ││        │ ░ └╥┘┌─┐         \n",
       "   q_1: ┤ H ├┤1       ├┤1       ├─░──╫─┤M├─────────\n",
       "        ├───┤│        ││        │ ░  ║ └╥┘┌─┐      \n",
       "   q_2: ┤ H ├┤2 $U_w$ ├┤2 U$_s$ ├─░──╫──╫─┤M├──────\n",
       "        ├───┤│        ││        │ ░  ║  ║ └╥┘┌─┐   \n",
       "   q_3: ┤ H ├┤3       ├┤3       ├─░──╫──╫──╫─┤M├───\n",
       "        ├───┤│        ││        │ ░  ║  ║  ║ └╥┘┌─┐\n",
       "   q_4: ┤ H ├┤4       ├┤4       ├─░──╫──╫──╫──╫─┤M├\n",
       "        └───┘└────────┘└────────┘ ░  ║  ║  ║  ║ └╥┘\n",
       "meas: 5/═════════════════════════════╩══╩══╩══╩══╩═\n",
       "                                     0  1  2  3  4 "
      ]
     },
     "execution_count": 907,
     "metadata": {},
     "output_type": "execute_result"
    }
   ],
   "source": [
    "# create circuit for grover's algorithm \n",
    "grover_circuit = QuantumCircuit(n)\n",
    "\n",
    "# apply superposition on every qubit\n",
    "grover_circuit = init_qubits(grover_circuit, list(range(n)))\n",
    "\n",
    "# do np.pi/4 * np.sqrt(N) iterations\n",
    "# for i in range(int(np.pi/4 * np.sqrt(N))):\n",
    "#     grover_iteration(grover_circuit,n)\n",
    "\n",
    "# the above approach with iterations does not work properly, \n",
    "# so one iteration is enough, if the number of winners is not too high\n",
    "grover_iteration(grover_circuit,n)\n",
    "\n",
    "# apply measure gate on every qubit\n",
    "grover_circuit.measure_all()\n",
    "\n",
    "grover_circuit.draw()"
   ]
  },
  {
   "cell_type": "code",
   "execution_count": 908,
   "metadata": {},
   "outputs": [],
   "source": [
    "# select a provider \n",
    "# in this case an actual quantum computer, not a simulator\n",
    "provider = IBMQ.get_provider(\"ibm-q\")"
   ]
  },
  {
   "cell_type": "code",
   "execution_count": 909,
   "metadata": {},
   "outputs": [],
   "source": [
    "# try least busy instead\n",
    "# backend = least_busy(provider.backends(filters=lambda x: int(x.configuration().n_qubits) >= 3 and \n",
    "#                                   not x.configuration().simulator and x.status().operational==True))"
   ]
  },
  {
   "cell_type": "code",
   "execution_count": 910,
   "metadata": {},
   "outputs": [],
   "source": [
    "# use ibmq_belem, which is one of the less busier QCs\n",
    "# or use the code in the cell above and comment this cell's code\n",
    "backend = provider.get_backend('ibmq_belem')\n"
   ]
  },
  {
   "cell_type": "code",
   "execution_count": 911,
   "metadata": {},
   "outputs": [],
   "source": [
    "# execute the circuit with 10.000 shots (can be put up to 20.000)\n",
    "job = execute(grover_circuit, backend, shots=10000)\n"
   ]
  },
  {
   "cell_type": "code",
   "execution_count": 912,
   "metadata": {},
   "outputs": [
    {
     "name": "stdout",
     "output_type": "stream",
     "text": [
      "Job Status: job has successfully run\n"
     ]
    }
   ],
   "source": [
    "# look if the job is done\n",
    "job_monitor(job, interval=2)"
   ]
  },
  {
   "cell_type": "code",
   "execution_count": 913,
   "metadata": {},
   "outputs": [],
   "source": [
    "# get results\n",
    "results = job.result()\n",
    "\n",
    "# get the counts of each possible state\n",
    "answer = results.get_counts(grover_circuit)\n"
   ]
  },
  {
   "cell_type": "code",
   "execution_count": 914,
   "metadata": {},
   "outputs": [
    {
     "data": {
      "image/png": "[encoded data removed]",
      "text/plain": [
       "<Figure size 504x360 with 1 Axes>"
      ]
     },
     "execution_count": 914,
     "metadata": {},
     "output_type": "execute_result"
    }
   ],
   "source": [
    "plot_histogram(answer)"
   ]
  }
 ],
 "metadata": {
  "kernelspec": {
   "display_name": "Python 3",
   "language": "python",
   "name": "python3"
  },
  "language_info": {
   "codemirror_mode": {
    "name": "ipython",
    "version": 3
   },
   "file_extension": ".py",
   "mimetype": "text/x-python",
   "name": "python",
   "nbconvert_exporter": "python",
   "pygments_lexer": "ipython3",
   "version": "3.10.10"
  },
  "orig_nbformat": 4,
  "vscode": {
   "interpreter": {
    "hash": "7535c2b15102566238d74c09a6d8eff063fa7de5f87fb36cc5318ae6ed013385"
   }
  }
 },
 "nbformat": 4,
 "nbformat_minor": 2
}
